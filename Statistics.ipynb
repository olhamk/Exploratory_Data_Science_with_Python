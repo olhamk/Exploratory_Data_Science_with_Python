{
 "cells": [
  {
   "cell_type": "code",
   "execution_count": 1,
   "metadata": {},
   "outputs": [],
   "source": [
    "#Create ipynb file that:\n",
    "#1. Imports required packages (you choose)\n",
    "#2. Imports data from stash 'https://stash.danskenet.net/users/bb6586/repos/dsaeda2020q1/browse/CSI_data_final.csv'\n",
    "#3. Draw distributions for all numeric variables in data set (comment if it looks normal/bernouli or not)\n",
    "#4. Plot age histogram + normalized age histogram + standardized age histogram\n",
    "#5. Calculate statistics for monthly_income, does it look normal?\n",
    "\n",
    "#Importing the packages\n",
    "import numpy as np\n",
    "import pandas as pd\n",
    "import seaborn as sns \n",
    "import matplotlib.pyplot as plt\n",
    "from scipy import stats"
   ]
  },
  {
   "cell_type": "code",
   "execution_count": 2,
   "metadata": {},
   "outputs": [],
   "source": [
    "#importing data from stash\n",
    "data = pd.read_csv ('https://raw.githubusercontent.com/olhamk/Exploratory_Data_Science_with_Python/master/CSI_data_final.csv?raw')"
   ]
  },
  {
   "cell_type": "code",
   "execution_count": 3,
   "metadata": {},
   "outputs": [
    {
     "data": {
      "text/html": [
       "<div>\n",
       "<style scoped>\n",
       "    .dataframe tbody tr th:only-of-type {\n",
       "        vertical-align: middle;\n",
       "    }\n",
       "\n",
       "    .dataframe tbody tr th {\n",
       "        vertical-align: top;\n",
       "    }\n",
       "\n",
       "    .dataframe thead th {\n",
       "        text-align: right;\n",
       "    }\n",
       "</style>\n",
       "<table border=\"1\" class=\"dataframe\">\n",
       "  <thead>\n",
       "    <tr style=\"text-align: right;\">\n",
       "      <th></th>\n",
       "      <th>Unnamed: 0</th>\n",
       "      <th>default</th>\n",
       "      <th>checking_balance</th>\n",
       "      <th>months_loan_duration</th>\n",
       "      <th>credit_history</th>\n",
       "      <th>purpose</th>\n",
       "      <th>amount</th>\n",
       "      <th>savings_balance</th>\n",
       "      <th>employment_duration</th>\n",
       "      <th>years_at_residence</th>\n",
       "      <th>age</th>\n",
       "      <th>other_credit</th>\n",
       "      <th>housing</th>\n",
       "      <th>existing_loans_count</th>\n",
       "      <th>job</th>\n",
       "      <th>dependents</th>\n",
       "      <th>monthlyincome</th>\n",
       "      <th>phone</th>\n",
       "    </tr>\n",
       "  </thead>\n",
       "  <tbody>\n",
       "    <tr>\n",
       "      <td>0</td>\n",
       "      <td>1</td>\n",
       "      <td>0</td>\n",
       "      <td>&lt; 0 EUR</td>\n",
       "      <td>6</td>\n",
       "      <td>critical</td>\n",
       "      <td>furniture/appliances</td>\n",
       "      <td>1169</td>\n",
       "      <td>unknown</td>\n",
       "      <td>&gt; 7 years</td>\n",
       "      <td>4</td>\n",
       "      <td>67</td>\n",
       "      <td>none</td>\n",
       "      <td>own</td>\n",
       "      <td>2</td>\n",
       "      <td>skilled</td>\n",
       "      <td>1</td>\n",
       "      <td>1740</td>\n",
       "      <td>1</td>\n",
       "    </tr>\n",
       "    <tr>\n",
       "      <td>1</td>\n",
       "      <td>2</td>\n",
       "      <td>1</td>\n",
       "      <td>1 - 200 EUR</td>\n",
       "      <td>48</td>\n",
       "      <td>good</td>\n",
       "      <td>furniture/appliances</td>\n",
       "      <td>5951</td>\n",
       "      <td>&lt; 100 EUR</td>\n",
       "      <td>1 - 4 years</td>\n",
       "      <td>2</td>\n",
       "      <td>22</td>\n",
       "      <td>none</td>\n",
       "      <td>own</td>\n",
       "      <td>1</td>\n",
       "      <td>skilled</td>\n",
       "      <td>1</td>\n",
       "      <td>4963</td>\n",
       "      <td>0</td>\n",
       "    </tr>\n",
       "    <tr>\n",
       "      <td>2</td>\n",
       "      <td>3</td>\n",
       "      <td>0</td>\n",
       "      <td>unknown</td>\n",
       "      <td>12</td>\n",
       "      <td>critical</td>\n",
       "      <td>education</td>\n",
       "      <td>2096</td>\n",
       "      <td>&lt; 100 EUR</td>\n",
       "      <td>4 - 7 years</td>\n",
       "      <td>3</td>\n",
       "      <td>49</td>\n",
       "      <td>none</td>\n",
       "      <td>own</td>\n",
       "      <td>1</td>\n",
       "      <td>unskilled</td>\n",
       "      <td>2</td>\n",
       "      <td>1214</td>\n",
       "      <td>0</td>\n",
       "    </tr>\n",
       "    <tr>\n",
       "      <td>3</td>\n",
       "      <td>4</td>\n",
       "      <td>0</td>\n",
       "      <td>&lt; 0 EUR</td>\n",
       "      <td>42</td>\n",
       "      <td>good</td>\n",
       "      <td>furniture/appliances</td>\n",
       "      <td>7882</td>\n",
       "      <td>&lt; 100 EUR</td>\n",
       "      <td>4 - 7 years</td>\n",
       "      <td>4</td>\n",
       "      <td>45</td>\n",
       "      <td>none</td>\n",
       "      <td>other</td>\n",
       "      <td>1</td>\n",
       "      <td>skilled</td>\n",
       "      <td>2</td>\n",
       "      <td>7077</td>\n",
       "      <td>0</td>\n",
       "    </tr>\n",
       "    <tr>\n",
       "      <td>4</td>\n",
       "      <td>5</td>\n",
       "      <td>1</td>\n",
       "      <td>&lt; 0 EUR</td>\n",
       "      <td>24</td>\n",
       "      <td>poor</td>\n",
       "      <td>car</td>\n",
       "      <td>4870</td>\n",
       "      <td>&lt; 100 EUR</td>\n",
       "      <td>1 - 4 years</td>\n",
       "      <td>4</td>\n",
       "      <td>53</td>\n",
       "      <td>none</td>\n",
       "      <td>other</td>\n",
       "      <td>2</td>\n",
       "      <td>skilled</td>\n",
       "      <td>2</td>\n",
       "      <td>5771</td>\n",
       "      <td>0</td>\n",
       "    </tr>\n",
       "  </tbody>\n",
       "</table>\n",
       "</div>"
      ],
      "text/plain": [
       "   Unnamed: 0  default checking_balance  months_loan_duration credit_history  \\\n",
       "0           1        0          < 0 EUR                     6       critical   \n",
       "1           2        1      1 - 200 EUR                    48           good   \n",
       "2           3        0          unknown                    12       critical   \n",
       "3           4        0          < 0 EUR                    42           good   \n",
       "4           5        1          < 0 EUR                    24           poor   \n",
       "\n",
       "                purpose  amount savings_balance employment_duration  \\\n",
       "0  furniture/appliances    1169         unknown           > 7 years   \n",
       "1  furniture/appliances    5951       < 100 EUR         1 - 4 years   \n",
       "2             education    2096       < 100 EUR         4 - 7 years   \n",
       "3  furniture/appliances    7882       < 100 EUR         4 - 7 years   \n",
       "4                   car    4870       < 100 EUR         1 - 4 years   \n",
       "\n",
       "   years_at_residence  age other_credit housing  existing_loans_count  \\\n",
       "0                   4   67         none     own                     2   \n",
       "1                   2   22         none     own                     1   \n",
       "2                   3   49         none     own                     1   \n",
       "3                   4   45         none   other                     1   \n",
       "4                   4   53         none   other                     2   \n",
       "\n",
       "         job  dependents  monthlyincome  phone  \n",
       "0    skilled           1           1740      1  \n",
       "1    skilled           1           4963      0  \n",
       "2  unskilled           2           1214      0  \n",
       "3    skilled           2           7077      0  \n",
       "4    skilled           2           5771      0  "
      ]
     },
     "execution_count": 3,
     "metadata": {},
     "output_type": "execute_result"
    }
   ],
   "source": [
    "data.head()"
   ]
  },
  {
   "cell_type": "code",
   "execution_count": 4,
   "metadata": {},
   "outputs": [
    {
     "data": {
      "text/plain": [
       "<matplotlib.axes._subplots.AxesSubplot at 0x1e8ffe2ec48>"
      ]
     },
     "execution_count": 4,
     "metadata": {},
     "output_type": "execute_result"
    },
    {
     "data": {
      "image/png": "[encoded data removed]",
      "text/plain": [
       "<Figure size 432x288 with 1 Axes>"
      ]
     },
     "metadata": {
      "needs_background": "light"
     },
     "output_type": "display_data"
    }
   ],
   "source": [
    "#1 distributions for all numeric variables\n",
    "\n",
    "#\"Default\" distribution \n",
    "\n",
    "sns.distplot(pd.DataFrame(data, columns = ['default']), kde=False, hist_kws=dict(edgecolor='black', linewidth=2))\n",
    "#The chart below shows that we have a Bernoulli Distribution"
   ]
  },
  {
   "cell_type": "code",
   "execution_count": 5,
   "metadata": {},
   "outputs": [
    {
     "data": {
      "text/plain": [
       "<matplotlib.axes._subplots.AxesSubplot at 0x1e8812e12c8>"
      ]
     },
     "execution_count": 5,
     "metadata": {},
     "output_type": "execute_result"
    },
    {
     "data": {
      "image/png": "[encoded data removed]",
      "text/plain": [
       "<Figure size 432x288 with 1 Axes>"
      ]
     },
     "metadata": {
      "needs_background": "light"
     },
     "output_type": "display_data"
    }
   ],
   "source": [
    "#\"months_loan_duration\" distribution\n",
    "\n",
    "sns.distplot(pd.DataFrame(data, columns = ['months_loan_duration']), kde=False, hist_kws=dict(edgecolor='black', linewidth=2))\n",
    "\n",
    "#from the distribution below it seems that there may be some outliers"
   ]
  },
  {
   "cell_type": "code",
   "execution_count": 6,
   "metadata": {},
   "outputs": [
    {
     "data": {
      "text/html": [
       "<div>\n",
       "<style scoped>\n",
       "    .dataframe tbody tr th:only-of-type {\n",
       "        vertical-align: middle;\n",
       "    }\n",
       "\n",
       "    .dataframe tbody tr th {\n",
       "        vertical-align: top;\n",
       "    }\n",
       "\n",
       "    .dataframe thead th {\n",
       "        text-align: right;\n",
       "    }\n",
       "</style>\n",
       "<table border=\"1\" class=\"dataframe\">\n",
       "  <thead>\n",
       "    <tr style=\"text-align: right;\">\n",
       "      <th></th>\n",
       "      <th>Unnamed: 0</th>\n",
       "      <th>default</th>\n",
       "      <th>checking_balance</th>\n",
       "      <th>months_loan_duration</th>\n",
       "      <th>credit_history</th>\n",
       "      <th>purpose</th>\n",
       "      <th>amount</th>\n",
       "      <th>savings_balance</th>\n",
       "      <th>employment_duration</th>\n",
       "      <th>years_at_residence</th>\n",
       "      <th>age</th>\n",
       "      <th>other_credit</th>\n",
       "      <th>housing</th>\n",
       "      <th>existing_loans_count</th>\n",
       "      <th>job</th>\n",
       "      <th>dependents</th>\n",
       "      <th>monthlyincome</th>\n",
       "      <th>phone</th>\n",
       "    </tr>\n",
       "  </thead>\n",
       "  <tbody>\n",
       "    <tr>\n",
       "      <td>962</td>\n",
       "      <td>963</td>\n",
       "      <td>0</td>\n",
       "      <td>unknown</td>\n",
       "      <td>2400</td>\n",
       "      <td>good</td>\n",
       "      <td>car</td>\n",
       "      <td>3556</td>\n",
       "      <td>unknown</td>\n",
       "      <td>1 - 4 years</td>\n",
       "      <td>2</td>\n",
       "      <td>29</td>\n",
       "      <td>none</td>\n",
       "      <td>own</td>\n",
       "      <td>1</td>\n",
       "      <td>skilled</td>\n",
       "      <td>1</td>\n",
       "      <td>2681</td>\n",
       "      <td>0</td>\n",
       "    </tr>\n",
       "    <tr>\n",
       "      <td>677</td>\n",
       "      <td>678</td>\n",
       "      <td>1</td>\n",
       "      <td>1 - 200 EUR</td>\n",
       "      <td>72</td>\n",
       "      <td>good</td>\n",
       "      <td>furniture/appliances</td>\n",
       "      <td>5595</td>\n",
       "      <td>100 - 500 EUR</td>\n",
       "      <td>1 - 4 years</td>\n",
       "      <td>2</td>\n",
       "      <td>24</td>\n",
       "      <td>none</td>\n",
       "      <td>own</td>\n",
       "      <td>1</td>\n",
       "      <td>skilled</td>\n",
       "      <td>1</td>\n",
       "      <td>5130</td>\n",
       "      <td>0</td>\n",
       "    </tr>\n",
       "    <tr>\n",
       "      <td>29</td>\n",
       "      <td>30</td>\n",
       "      <td>1</td>\n",
       "      <td>&lt; 0 EUR</td>\n",
       "      <td>60</td>\n",
       "      <td>poor</td>\n",
       "      <td>business</td>\n",
       "      <td>6836</td>\n",
       "      <td>&lt; 100 EUR</td>\n",
       "      <td>&gt; 7 years</td>\n",
       "      <td>4</td>\n",
       "      <td>63</td>\n",
       "      <td>none</td>\n",
       "      <td>own</td>\n",
       "      <td>2</td>\n",
       "      <td>skilled</td>\n",
       "      <td>1</td>\n",
       "      <td>6141</td>\n",
       "      <td>1</td>\n",
       "    </tr>\n",
       "    <tr>\n",
       "      <td>134</td>\n",
       "      <td>135</td>\n",
       "      <td>0</td>\n",
       "      <td>unknown</td>\n",
       "      <td>60</td>\n",
       "      <td>good</td>\n",
       "      <td>NaN</td>\n",
       "      <td>10144</td>\n",
       "      <td>100 - 500 EUR</td>\n",
       "      <td>4 - 7 years</td>\n",
       "      <td>4</td>\n",
       "      <td>21</td>\n",
       "      <td>none</td>\n",
       "      <td>own</td>\n",
       "      <td>1</td>\n",
       "      <td>skilled</td>\n",
       "      <td>1</td>\n",
       "      <td>9644</td>\n",
       "      <td>1</td>\n",
       "    </tr>\n",
       "    <tr>\n",
       "      <td>255</td>\n",
       "      <td>256</td>\n",
       "      <td>0</td>\n",
       "      <td>1 - 200 EUR</td>\n",
       "      <td>60</td>\n",
       "      <td>poor</td>\n",
       "      <td>NaN</td>\n",
       "      <td>7418</td>\n",
       "      <td>unknown</td>\n",
       "      <td>1 - 4 years</td>\n",
       "      <td>1</td>\n",
       "      <td>27</td>\n",
       "      <td>none</td>\n",
       "      <td>own</td>\n",
       "      <td>1</td>\n",
       "      <td>unskilled</td>\n",
       "      <td>1</td>\n",
       "      <td>7822</td>\n",
       "      <td>0</td>\n",
       "    </tr>\n",
       "    <tr>\n",
       "      <td>332</td>\n",
       "      <td>333</td>\n",
       "      <td>1</td>\n",
       "      <td>1 - 200 EUR</td>\n",
       "      <td>60</td>\n",
       "      <td>good</td>\n",
       "      <td>NaN</td>\n",
       "      <td>7408</td>\n",
       "      <td>100 - 500 EUR</td>\n",
       "      <td>&lt; 1 year</td>\n",
       "      <td>2</td>\n",
       "      <td>24</td>\n",
       "      <td>none</td>\n",
       "      <td>own</td>\n",
       "      <td>1</td>\n",
       "      <td>management</td>\n",
       "      <td>1</td>\n",
       "      <td>7606</td>\n",
       "      <td>0</td>\n",
       "    </tr>\n",
       "    <tr>\n",
       "      <td>373</td>\n",
       "      <td>374</td>\n",
       "      <td>0</td>\n",
       "      <td>unknown</td>\n",
       "      <td>60</td>\n",
       "      <td>critical</td>\n",
       "      <td>NaN</td>\n",
       "      <td>13756</td>\n",
       "      <td>unknown</td>\n",
       "      <td>&gt; 7 years</td>\n",
       "      <td>4</td>\n",
       "      <td>63</td>\n",
       "      <td>bank</td>\n",
       "      <td>other</td>\n",
       "      <td>1</td>\n",
       "      <td>management</td>\n",
       "      <td>1</td>\n",
       "      <td>14567</td>\n",
       "      <td>1</td>\n",
       "    </tr>\n",
       "    <tr>\n",
       "      <td>374</td>\n",
       "      <td>375</td>\n",
       "      <td>1</td>\n",
       "      <td>1 - 200 EUR</td>\n",
       "      <td>60</td>\n",
       "      <td>very good</td>\n",
       "      <td>NaN</td>\n",
       "      <td>14782</td>\n",
       "      <td>100 - 500 EUR</td>\n",
       "      <td>&gt; 7 years</td>\n",
       "      <td>4</td>\n",
       "      <td>60</td>\n",
       "      <td>bank</td>\n",
       "      <td>other</td>\n",
       "      <td>2</td>\n",
       "      <td>management</td>\n",
       "      <td>1</td>\n",
       "      <td>15663</td>\n",
       "      <td>1</td>\n",
       "    </tr>\n",
       "    <tr>\n",
       "      <td>616</td>\n",
       "      <td>617</td>\n",
       "      <td>0</td>\n",
       "      <td>1 - 200 EUR</td>\n",
       "      <td>60</td>\n",
       "      <td>poor</td>\n",
       "      <td>furniture/appliances</td>\n",
       "      <td>9157</td>\n",
       "      <td>unknown</td>\n",
       "      <td>1 - 4 years</td>\n",
       "      <td>2</td>\n",
       "      <td>27</td>\n",
       "      <td>none</td>\n",
       "      <td>other</td>\n",
       "      <td>1</td>\n",
       "      <td>management</td>\n",
       "      <td>1</td>\n",
       "      <td>9170</td>\n",
       "      <td>0</td>\n",
       "    </tr>\n",
       "    <tr>\n",
       "      <td>637</td>\n",
       "      <td>638</td>\n",
       "      <td>0</td>\n",
       "      <td>unknown</td>\n",
       "      <td>60</td>\n",
       "      <td>poor</td>\n",
       "      <td>furniture/appliances</td>\n",
       "      <td>15653</td>\n",
       "      <td>&lt; 100 EUR</td>\n",
       "      <td>4 - 7 years</td>\n",
       "      <td>4</td>\n",
       "      <td>21</td>\n",
       "      <td>none</td>\n",
       "      <td>own</td>\n",
       "      <td>2</td>\n",
       "      <td>skilled</td>\n",
       "      <td>1</td>\n",
       "      <td>16077</td>\n",
       "      <td>1</td>\n",
       "    </tr>\n",
       "  </tbody>\n",
       "</table>\n",
       "</div>"
      ],
      "text/plain": [
       "     Unnamed: 0  default checking_balance  months_loan_duration  \\\n",
       "962         963        0          unknown                  2400   \n",
       "677         678        1      1 - 200 EUR                    72   \n",
       "29           30        1          < 0 EUR                    60   \n",
       "134         135        0          unknown                    60   \n",
       "255         256        0      1 - 200 EUR                    60   \n",
       "332         333        1      1 - 200 EUR                    60   \n",
       "373         374        0          unknown                    60   \n",
       "374         375        1      1 - 200 EUR                    60   \n",
       "616         617        0      1 - 200 EUR                    60   \n",
       "637         638        0          unknown                    60   \n",
       "\n",
       "    credit_history               purpose  amount savings_balance  \\\n",
       "962           good                   car    3556         unknown   \n",
       "677           good  furniture/appliances    5595   100 - 500 EUR   \n",
       "29            poor              business    6836       < 100 EUR   \n",
       "134           good                   NaN   10144   100 - 500 EUR   \n",
       "255           poor                   NaN    7418         unknown   \n",
       "332           good                   NaN    7408   100 - 500 EUR   \n",
       "373       critical                   NaN   13756         unknown   \n",
       "374      very good                   NaN   14782   100 - 500 EUR   \n",
       "616           poor  furniture/appliances    9157         unknown   \n",
       "637           poor  furniture/appliances   15653       < 100 EUR   \n",
       "\n",
       "    employment_duration  years_at_residence  age other_credit housing  \\\n",
       "962         1 - 4 years                   2   29         none     own   \n",
       "677         1 - 4 years                   2   24         none     own   \n",
       "29            > 7 years                   4   63         none     own   \n",
       "134         4 - 7 years                   4   21         none     own   \n",
       "255         1 - 4 years                   1   27         none     own   \n",
       "332            < 1 year                   2   24         none     own   \n",
       "373           > 7 years                   4   63         bank   other   \n",
       "374           > 7 years                   4   60         bank   other   \n",
       "616         1 - 4 years                   2   27         none   other   \n",
       "637         4 - 7 years                   4   21         none     own   \n",
       "\n",
       "     existing_loans_count         job  dependents  monthlyincome  phone  \n",
       "962                     1     skilled           1           2681      0  \n",
       "677                     1     skilled           1           5130      0  \n",
       "29                      2     skilled           1           6141      1  \n",
       "134                     1     skilled           1           9644      1  \n",
       "255                     1   unskilled           1           7822      0  \n",
       "332                     1  management           1           7606      0  \n",
       "373                     1  management           1          14567      1  \n",
       "374                     2  management           1          15663      1  \n",
       "616                     1  management           1           9170      0  \n",
       "637                     2     skilled           1          16077      1  "
      ]
     },
     "execution_count": 6,
     "metadata": {},
     "output_type": "execute_result"
    }
   ],
   "source": [
    "#sorting the data from largest to smallest to identify an outlier\n",
    "data.nlargest(10, 'months_loan_duration')"
   ]
  },
  {
   "cell_type": "code",
   "execution_count": 7,
   "metadata": {},
   "outputs": [],
   "source": [
    "#dropping a row that contains an outlier (a value of 2400 in this case)\n",
    "data.drop(data[data['months_loan_duration'] == 2400].index, inplace = True)"
   ]
  },
  {
   "cell_type": "code",
   "execution_count": 8,
   "metadata": {},
   "outputs": [
    {
     "data": {
      "text/plain": [
       "(0.899905800819397, 5.198770366072077e-25)"
      ]
     },
     "execution_count": 8,
     "metadata": {},
     "output_type": "execute_result"
    },
    {
     "data": {
      "image/png": "[encoded data removed]",
      "text/plain": [
       "<Figure size 432x288 with 1 Axes>"
      ]
     },
     "metadata": {
      "needs_background": "light"
     },
     "output_type": "display_data"
    }
   ],
   "source": [
    "#\"months_loan_duration\" distribution without the outlier\n",
    "sns.distplot(pd.DataFrame(data, columns = ['months_loan_duration']), hist_kws=dict(edgecolor='black', linewidth=2))\n",
    "#the chart below shows a distribution that is rather non-normal\n",
    "\n",
    "stats.shapiro(pd.DataFrame(data, columns = ['months_loan_duration'])) \n",
    "#Shapiro-Wilk test returns the p-value of 0, which also suggests that the data isn't normally distributed"
   ]
  },
  {
   "cell_type": "code",
   "execution_count": 9,
   "metadata": {},
   "outputs": [
    {
     "data": {
      "text/plain": [
       "(0.7952449917793274, 1.1658636541756951e-33)"
      ]
     },
     "execution_count": 9,
     "metadata": {},
     "output_type": "execute_result"
    },
    {
     "data": {
      "image/png": "[encoded data removed]",
      "text/plain": [
       "<Figure size 432x288 with 1 Axes>"
      ]
     },
     "metadata": {
      "needs_background": "light"
     },
     "output_type": "display_data"
    }
   ],
   "source": [
    "#\"amount\" distribution\n",
    "\n",
    "sns.distplot(pd.DataFrame(data, columns = ['amount']), hist_kws=dict(edgecolor='black', linewidth=2))\n",
    "\n",
    "#this chart also shows a non-normal distribution, which looks more like a right-skewed distribution\n",
    "\n",
    "stats.shapiro(pd.DataFrame(data, columns = ['amount']))\n",
    "#Shapiro-Wilk test returns a p-value, which is less than 0.5. \n",
    "#That also suggests that the data is not normally distributed."
   ]
  },
  {
   "cell_type": "code",
   "execution_count": 10,
   "metadata": {},
   "outputs": [
    {
     "data": {
      "text/plain": [
       "(0.8134707808494568, 1.862025369499133e-32)"
      ]
     },
     "execution_count": 10,
     "metadata": {},
     "output_type": "execute_result"
    },
    {
     "data": {
      "image/png": "[encoded data removed]",
      "text/plain": [
       "<Figure size 432x288 with 1 Axes>"
      ]
     },
     "metadata": {
      "needs_background": "light"
     },
     "output_type": "display_data"
    }
   ],
   "source": [
    "#\"years_at_residence\" distribution\n",
    "\n",
    "sns.distplot(pd.DataFrame(data, columns = ['years_at_residence']), kde=False, hist_kws=dict(edgecolor='black', linewidth=2))\n",
    "stats.shapiro(pd.DataFrame(data, columns = ['years_at_residence']))\n",
    "\n",
    "#The distribution does not seem to be normal, and so says the p-value of Shapiro-Wilk test"
   ]
  },
  {
   "cell_type": "code",
   "execution_count": 11,
   "metadata": {},
   "outputs": [
    {
     "data": {
      "text/plain": [
       "<matplotlib.axes._subplots.AxesSubplot at 0x1e8815b0ac8>"
      ]
     },
     "execution_count": 11,
     "metadata": {},
     "output_type": "execute_result"
    },
    {
     "data": {
      "image/png": "[encoded data removed]",
      "text/plain": [
       "<Figure size 432x288 with 1 Axes>"
      ]
     },
     "metadata": {
      "needs_background": "light"
     },
     "output_type": "display_data"
    }
   ],
   "source": [
    "#\"age\" distribution - it seems that there are some outliers\n",
    "sns.distplot(pd.DataFrame(data, columns = ['age']), kde=False, hist_kws=dict(edgecolor='black', linewidth=2))"
   ]
  },
  {
   "cell_type": "code",
   "execution_count": 12,
   "metadata": {},
   "outputs": [
    {
     "data": {
      "text/html": [
       "<div>\n",
       "<style scoped>\n",
       "    .dataframe tbody tr th:only-of-type {\n",
       "        vertical-align: middle;\n",
       "    }\n",
       "\n",
       "    .dataframe tbody tr th {\n",
       "        vertical-align: top;\n",
       "    }\n",
       "\n",
       "    .dataframe thead th {\n",
       "        text-align: right;\n",
       "    }\n",
       "</style>\n",
       "<table border=\"1\" class=\"dataframe\">\n",
       "  <thead>\n",
       "    <tr style=\"text-align: right;\">\n",
       "      <th></th>\n",
       "      <th>Unnamed: 0</th>\n",
       "      <th>default</th>\n",
       "      <th>checking_balance</th>\n",
       "      <th>months_loan_duration</th>\n",
       "      <th>credit_history</th>\n",
       "      <th>purpose</th>\n",
       "      <th>amount</th>\n",
       "      <th>savings_balance</th>\n",
       "      <th>employment_duration</th>\n",
       "      <th>years_at_residence</th>\n",
       "      <th>age</th>\n",
       "      <th>other_credit</th>\n",
       "      <th>housing</th>\n",
       "      <th>existing_loans_count</th>\n",
       "      <th>job</th>\n",
       "      <th>dependents</th>\n",
       "      <th>monthlyincome</th>\n",
       "      <th>phone</th>\n",
       "    </tr>\n",
       "  </thead>\n",
       "  <tbody>\n",
       "    <tr>\n",
       "      <td>7</td>\n",
       "      <td>8</td>\n",
       "      <td>0</td>\n",
       "      <td>1 - 200 EUR</td>\n",
       "      <td>36</td>\n",
       "      <td>good</td>\n",
       "      <td>car</td>\n",
       "      <td>6948</td>\n",
       "      <td>&lt; 100 EUR</td>\n",
       "      <td>1 - 4 years</td>\n",
       "      <td>2</td>\n",
       "      <td>7500</td>\n",
       "      <td>none</td>\n",
       "      <td>rent</td>\n",
       "      <td>1</td>\n",
       "      <td>management</td>\n",
       "      <td>1</td>\n",
       "      <td>6292</td>\n",
       "      <td>1</td>\n",
       "    </tr>\n",
       "    <tr>\n",
       "      <td>330</td>\n",
       "      <td>331</td>\n",
       "      <td>0</td>\n",
       "      <td>&lt; 0 EUR</td>\n",
       "      <td>24</td>\n",
       "      <td>critical</td>\n",
       "      <td>NaN</td>\n",
       "      <td>6615</td>\n",
       "      <td>&lt; 100 EUR</td>\n",
       "      <td>unemployed</td>\n",
       "      <td>4</td>\n",
       "      <td>75</td>\n",
       "      <td>none</td>\n",
       "      <td>other</td>\n",
       "      <td>2</td>\n",
       "      <td>management</td>\n",
       "      <td>1</td>\n",
       "      <td>5686</td>\n",
       "      <td>1</td>\n",
       "    </tr>\n",
       "    <tr>\n",
       "      <td>536</td>\n",
       "      <td>537</td>\n",
       "      <td>0</td>\n",
       "      <td>&lt; 0 EUR</td>\n",
       "      <td>6</td>\n",
       "      <td>good</td>\n",
       "      <td>car</td>\n",
       "      <td>1374</td>\n",
       "      <td>unknown</td>\n",
       "      <td>unemployed</td>\n",
       "      <td>3</td>\n",
       "      <td>75</td>\n",
       "      <td>none</td>\n",
       "      <td>own</td>\n",
       "      <td>1</td>\n",
       "      <td>management</td>\n",
       "      <td>1</td>\n",
       "      <td>2264</td>\n",
       "      <td>1</td>\n",
       "    </tr>\n",
       "    <tr>\n",
       "      <td>186</td>\n",
       "      <td>187</td>\n",
       "      <td>1</td>\n",
       "      <td>1 - 200 EUR</td>\n",
       "      <td>9</td>\n",
       "      <td>very good</td>\n",
       "      <td>NaN</td>\n",
       "      <td>5129</td>\n",
       "      <td>&lt; 100 EUR</td>\n",
       "      <td>&gt; 7 years</td>\n",
       "      <td>4</td>\n",
       "      <td>74</td>\n",
       "      <td>bank</td>\n",
       "      <td>other</td>\n",
       "      <td>1</td>\n",
       "      <td>management</td>\n",
       "      <td>2</td>\n",
       "      <td>6063</td>\n",
       "      <td>1</td>\n",
       "    </tr>\n",
       "    <tr>\n",
       "      <td>430</td>\n",
       "      <td>431</td>\n",
       "      <td>0</td>\n",
       "      <td>unknown</td>\n",
       "      <td>5</td>\n",
       "      <td>good</td>\n",
       "      <td>NaN</td>\n",
       "      <td>3448</td>\n",
       "      <td>&lt; 100 EUR</td>\n",
       "      <td>4 - 7 years</td>\n",
       "      <td>4</td>\n",
       "      <td>74</td>\n",
       "      <td>none</td>\n",
       "      <td>own</td>\n",
       "      <td>1</td>\n",
       "      <td>unskilled</td>\n",
       "      <td>1</td>\n",
       "      <td>3742</td>\n",
       "      <td>0</td>\n",
       "    </tr>\n",
       "    <tr>\n",
       "      <td>606</td>\n",
       "      <td>607</td>\n",
       "      <td>0</td>\n",
       "      <td>unknown</td>\n",
       "      <td>24</td>\n",
       "      <td>critical</td>\n",
       "      <td>business</td>\n",
       "      <td>4526</td>\n",
       "      <td>&lt; 100 EUR</td>\n",
       "      <td>1 - 4 years</td>\n",
       "      <td>2</td>\n",
       "      <td>74</td>\n",
       "      <td>none</td>\n",
       "      <td>own</td>\n",
       "      <td>1</td>\n",
       "      <td>management</td>\n",
       "      <td>1</td>\n",
       "      <td>4600</td>\n",
       "      <td>1</td>\n",
       "    </tr>\n",
       "    <tr>\n",
       "      <td>756</td>\n",
       "      <td>757</td>\n",
       "      <td>0</td>\n",
       "      <td>&gt; 200 EUR</td>\n",
       "      <td>6</td>\n",
       "      <td>critical</td>\n",
       "      <td>car</td>\n",
       "      <td>1299</td>\n",
       "      <td>&lt; 100 EUR</td>\n",
       "      <td>1 - 4 years</td>\n",
       "      <td>1</td>\n",
       "      <td>74</td>\n",
       "      <td>none</td>\n",
       "      <td>own</td>\n",
       "      <td>3</td>\n",
       "      <td>unemployed</td>\n",
       "      <td>2</td>\n",
       "      <td>2267</td>\n",
       "      <td>0</td>\n",
       "    </tr>\n",
       "    <tr>\n",
       "      <td>163</td>\n",
       "      <td>164</td>\n",
       "      <td>0</td>\n",
       "      <td>1 - 200 EUR</td>\n",
       "      <td>10</td>\n",
       "      <td>good</td>\n",
       "      <td>NaN</td>\n",
       "      <td>7308</td>\n",
       "      <td>&lt; 100 EUR</td>\n",
       "      <td>unemployed</td>\n",
       "      <td>4</td>\n",
       "      <td>70</td>\n",
       "      <td>bank</td>\n",
       "      <td>other</td>\n",
       "      <td>1</td>\n",
       "      <td>management</td>\n",
       "      <td>1</td>\n",
       "      <td>7127</td>\n",
       "      <td>1</td>\n",
       "    </tr>\n",
       "    <tr>\n",
       "      <td>187</td>\n",
       "      <td>188</td>\n",
       "      <td>0</td>\n",
       "      <td>1 - 200 EUR</td>\n",
       "      <td>16</td>\n",
       "      <td>critical</td>\n",
       "      <td>NaN</td>\n",
       "      <td>1175</td>\n",
       "      <td>&lt; 100 EUR</td>\n",
       "      <td>unemployed</td>\n",
       "      <td>3</td>\n",
       "      <td>68</td>\n",
       "      <td>none</td>\n",
       "      <td>other</td>\n",
       "      <td>3</td>\n",
       "      <td>unemployed</td>\n",
       "      <td>1</td>\n",
       "      <td>192</td>\n",
       "      <td>1</td>\n",
       "    </tr>\n",
       "    <tr>\n",
       "      <td>846</td>\n",
       "      <td>847</td>\n",
       "      <td>1</td>\n",
       "      <td>unknown</td>\n",
       "      <td>18</td>\n",
       "      <td>good</td>\n",
       "      <td>car</td>\n",
       "      <td>6761</td>\n",
       "      <td>unknown</td>\n",
       "      <td>1 - 4 years</td>\n",
       "      <td>4</td>\n",
       "      <td>68</td>\n",
       "      <td>none</td>\n",
       "      <td>rent</td>\n",
       "      <td>2</td>\n",
       "      <td>skilled</td>\n",
       "      <td>1</td>\n",
       "      <td>5849</td>\n",
       "      <td>0</td>\n",
       "    </tr>\n",
       "  </tbody>\n",
       "</table>\n",
       "</div>"
      ],
      "text/plain": [
       "     Unnamed: 0  default checking_balance  months_loan_duration  \\\n",
       "7             8        0      1 - 200 EUR                    36   \n",
       "330         331        0          < 0 EUR                    24   \n",
       "536         537        0          < 0 EUR                     6   \n",
       "186         187        1      1 - 200 EUR                     9   \n",
       "430         431        0          unknown                     5   \n",
       "606         607        0          unknown                    24   \n",
       "756         757        0        > 200 EUR                     6   \n",
       "163         164        0      1 - 200 EUR                    10   \n",
       "187         188        0      1 - 200 EUR                    16   \n",
       "846         847        1          unknown                    18   \n",
       "\n",
       "    credit_history   purpose  amount savings_balance employment_duration  \\\n",
       "7             good       car    6948       < 100 EUR         1 - 4 years   \n",
       "330       critical       NaN    6615       < 100 EUR          unemployed   \n",
       "536           good       car    1374         unknown          unemployed   \n",
       "186      very good       NaN    5129       < 100 EUR           > 7 years   \n",
       "430           good       NaN    3448       < 100 EUR         4 - 7 years   \n",
       "606       critical  business    4526       < 100 EUR         1 - 4 years   \n",
       "756       critical       car    1299       < 100 EUR         1 - 4 years   \n",
       "163           good       NaN    7308       < 100 EUR          unemployed   \n",
       "187       critical       NaN    1175       < 100 EUR          unemployed   \n",
       "846           good       car    6761         unknown         1 - 4 years   \n",
       "\n",
       "     years_at_residence   age other_credit housing  existing_loans_count  \\\n",
       "7                     2  7500         none    rent                     1   \n",
       "330                   4    75         none   other                     2   \n",
       "536                   3    75         none     own                     1   \n",
       "186                   4    74         bank   other                     1   \n",
       "430                   4    74         none     own                     1   \n",
       "606                   2    74         none     own                     1   \n",
       "756                   1    74         none     own                     3   \n",
       "163                   4    70         bank   other                     1   \n",
       "187                   3    68         none   other                     3   \n",
       "846                   4    68         none    rent                     2   \n",
       "\n",
       "            job  dependents  monthlyincome  phone  \n",
       "7    management           1           6292      1  \n",
       "330  management           1           5686      1  \n",
       "536  management           1           2264      1  \n",
       "186  management           2           6063      1  \n",
       "430   unskilled           1           3742      0  \n",
       "606  management           1           4600      1  \n",
       "756  unemployed           2           2267      0  \n",
       "163  management           1           7127      1  \n",
       "187  unemployed           1            192      1  \n",
       "846     skilled           1           5849      0  "
      ]
     },
     "execution_count": 12,
     "metadata": {},
     "output_type": "execute_result"
    }
   ],
   "source": [
    "#identifying the outliers\n",
    "data.nlargest(10, 'age')"
   ]
  },
  {
   "cell_type": "code",
   "execution_count": 13,
   "metadata": {},
   "outputs": [],
   "source": [
    "#dropping the age values that are larger than 150 \n",
    "data.drop(data[data['age'] > 150].index, inplace = True)"
   ]
  },
  {
   "cell_type": "code",
   "execution_count": 14,
   "metadata": {},
   "outputs": [
    {
     "data": {
      "text/plain": [
       "(0.9175940155982971, 6.975782757810331e-23)"
      ]
     },
     "execution_count": 14,
     "metadata": {},
     "output_type": "execute_result"
    },
    {
     "data": {
      "image/png": "[encoded data removed]",
      "text/plain": [
       "<Figure size 432x288 with 1 Axes>"
      ]
     },
     "metadata": {
      "needs_background": "light"
     },
     "output_type": "display_data"
    }
   ],
   "source": [
    "#\"age\" distribution without the outlier\n",
    "sns.distplot(pd.DataFrame(data, columns = ['age']), kde=False, hist_kws=dict(edgecolor='black', linewidth=2))\n",
    "stats.shapiro(pd.DataFrame(data, columns = ['age']))\n",
    "\n",
    "#the chart below shows a right-skewed distribution as the data is not normally distributed \n",
    "#(we can see that visually and the p-value of Shapiro-Wilk test also confirms that)"
   ]
  },
  {
   "cell_type": "code",
   "execution_count": 15,
   "metadata": {},
   "outputs": [
    {
     "data": {
      "text/plain": [
       "(0.6604220271110535, 1.4190669288524558e-40)"
      ]
     },
     "execution_count": 15,
     "metadata": {},
     "output_type": "execute_result"
    },
    {
     "data": {
      "image/png": "[encoded data removed]",
      "text/plain": [
       "<Figure size 432x288 with 1 Axes>"
      ]
     },
     "metadata": {
      "needs_background": "light"
     },
     "output_type": "display_data"
    }
   ],
   "source": [
    "#\"existing_loans_count\" distribution\n",
    "\n",
    "sns.distplot(pd.DataFrame(data, columns = ['existing_loans_count']), kde=False, hist_kws=dict(edgecolor='black', linewidth=2))\n",
    "stats.shapiro(pd.DataFrame(data, columns = ['existing_loans_count'])) #the test also shows that p-value is less than 0.5\n",
    "#we can see that the data is not normally distributed"
   ]
  },
  {
   "cell_type": "code",
   "execution_count": 16,
   "metadata": {},
   "outputs": [
    {
     "data": {
      "text/plain": [
       "(0.6604220271110535, 1.4190669288524558e-40)"
      ]
     },
     "execution_count": 16,
     "metadata": {},
     "output_type": "execute_result"
    },
    {
     "data": {
      "image/png": "[encoded data removed]",
      "text/plain": [
       "<Figure size 432x288 with 1 Axes>"
      ]
     },
     "metadata": {
      "needs_background": "light"
     },
     "output_type": "display_data"
    }
   ],
   "source": [
    "#\"dependents\" distribution\n",
    "sns.distplot(pd.DataFrame(data, columns = ['dependents']), kde=False, hist_kws=dict(edgecolor='black', linewidth=2))\n",
    "stats.shapiro(pd.DataFrame(data, columns = ['existing_loans_count'])) #p-value is less than 0.5 here as well\n",
    "#we can visually see that the distribution is not normal"
   ]
  },
  {
   "cell_type": "code",
   "execution_count": 17,
   "metadata": {},
   "outputs": [
    {
     "data": {
      "text/plain": [
       "(0.8283507823944092, 2.1754584779057773e-31)"
      ]
     },
     "execution_count": 17,
     "metadata": {},
     "output_type": "execute_result"
    },
    {
     "data": {
      "image/png": "[encoded data removed]",
      "text/plain": [
       "<Figure size 432x288 with 1 Axes>"
      ]
     },
     "metadata": {
      "needs_background": "light"
     },
     "output_type": "display_data"
    }
   ],
   "source": [
    "#\"monthlyincome\" distribution\n",
    "sns.distplot(pd.DataFrame(data, columns = ['monthlyincome']), kde=False, hist_kws=dict(edgecolor='black', linewidth=2))\n",
    "stats.shapiro(pd.DataFrame(data, columns = ['monthlyincome'])) #not normal distribution (p-value is less than 0.5)\n",
    "#that looks like a right-skewed distribution"
   ]
  },
  {
   "cell_type": "code",
   "execution_count": 18,
   "metadata": {},
   "outputs": [
    {
     "data": {
      "text/plain": [
       "<matplotlib.axes._subplots.AxesSubplot at 0x1e8819fac48>"
      ]
     },
     "execution_count": 18,
     "metadata": {},
     "output_type": "execute_result"
    },
    {
     "data": {
      "image/png": "[encoded data removed]",
      "text/plain": [
       "<Figure size 432x288 with 1 Axes>"
      ]
     },
     "metadata": {
      "needs_background": "light"
     },
     "output_type": "display_data"
    }
   ],
   "source": [
    "#\"phone\" distribution\n",
    "\n",
    "sns.distplot(pd.DataFrame(data, columns = ['phone']), kde=False, hist_kws=dict(edgecolor='black', linewidth=2))\n",
    "#this chart looks like a Bernoulli Distribution"
   ]
  },
  {
   "cell_type": "code",
   "execution_count": 19,
   "metadata": {},
   "outputs": [
    {
     "data": {
      "text/plain": [
       "<matplotlib.axes._subplots.AxesSubplot at 0x1e8819d5648>"
      ]
     },
     "execution_count": 19,
     "metadata": {},
     "output_type": "execute_result"
    },
    {
     "data": {
      "image/png": "[encoded data removed]",
      "text/plain": [
       "<Figure size 432x288 with 1 Axes>"
      ]
     },
     "metadata": {
      "needs_background": "light"
     },
     "output_type": "display_data"
    }
   ],
   "source": [
    "#2 age histogram + normalized age histogram + standardized age histogram\n",
    "\n",
    "#Regular age histogram\n",
    "\n",
    "sns.distplot(pd.DataFrame(data, columns = ['age']), hist_kws=dict(edgecolor='black', linewidth=2))\n"
   ]
  },
  {
   "cell_type": "code",
   "execution_count": 20,
   "metadata": {},
   "outputs": [],
   "source": [
    "#Standardized histogram\n",
    "\n",
    "from sklearn.preprocessing import StandardScaler #importing StandardScaler to remove the mean and scale the data\n",
    "scaler1 = StandardScaler() \n",
    "stand_data_scaled = scaler1.fit_transform(pd.DataFrame(data, columns = ['age'])) #scaling \"age\" column"
   ]
  },
  {
   "cell_type": "code",
   "execution_count": 21,
   "metadata": {},
   "outputs": [
    {
     "name": "stdout",
     "output_type": "stream",
     "text": [
      "Mean (age):  [-8.89958336e-17]\n",
      "Std (age):  [1.]\n",
      "Min value (age):  [-1.45467277]\n",
      "Max value (age):  [3.46655918]\n"
     ]
    }
   ],
   "source": [
    "#Checking the mean, standard deviation, min and max values of scaled data\n",
    "print('Mean (age): ',stand_data_scaled.mean(axis=0))\n",
    "print('Std (age): ',stand_data_scaled.std(axis=0))\n",
    "print('Min value (age): ', stand_data_scaled.min(axis=0))\n",
    "print('Max value (age): ', stand_data_scaled.max(axis=0))"
   ]
  },
  {
   "cell_type": "code",
   "execution_count": 22,
   "metadata": {},
   "outputs": [
    {
     "data": {
      "text/plain": [
       "<matplotlib.axes._subplots.AxesSubplot at 0x1e881d97bc8>"
      ]
     },
     "execution_count": 22,
     "metadata": {},
     "output_type": "execute_result"
    },
    {
     "data": {
      "image/png": "[encoded data removed]",
      "text/plain": [
       "<Figure size 432x288 with 1 Axes>"
      ]
     },
     "metadata": {
      "needs_background": "light"
     },
     "output_type": "display_data"
    }
   ],
   "source": [
    "#plotting standardized histogram\n",
    "sns.distplot(stand_data_scaled, hist_kws=dict(edgecolor='black', linewidth=2))"
   ]
  },
  {
   "cell_type": "code",
   "execution_count": 23,
   "metadata": {},
   "outputs": [],
   "source": [
    "#Normalized histogram \n",
    "\n",
    "from sklearn.preprocessing import MinMaxScaler #importing MinMaxScalar to scale the data to a range from 0 to 1\n",
    "scaler2 = MinMaxScaler() \n",
    "norm_data_scaled = scaler2.fit_transform(pd.DataFrame(data, columns = ['age'])) #scaling the data in \"age column\""
   ]
  },
  {
   "cell_type": "code",
   "execution_count": 24,
   "metadata": {},
   "outputs": [
    {
     "name": "stdout",
     "output_type": "stream",
     "text": [
      "Mean (age):  [0.29559118]\n",
      "Std (age):  [0.20320115]\n",
      "Min (age):  [0.]\n",
      "Max (age):  [1.]\n"
     ]
    }
   ],
   "source": [
    "##Checking the mean, standard deviation, min and max values of scaled data\n",
    "print('Mean (age): ', norm_data_scaled.mean(axis=0))\n",
    "print('Std (age): ', norm_data_scaled.std(axis=0))\n",
    "print('Min (age): ', norm_data_scaled.min(axis=0))\n",
    "print('Max (age): ', norm_data_scaled.max(axis=0))"
   ]
  },
  {
   "cell_type": "code",
   "execution_count": 25,
   "metadata": {},
   "outputs": [
    {
     "data": {
      "text/plain": [
       "<matplotlib.axes._subplots.AxesSubplot at 0x1e881e293c8>"
      ]
     },
     "execution_count": 25,
     "metadata": {},
     "output_type": "execute_result"
    },
    {
     "data": {
      "image/png": "[encoded data removed]",
      "text/plain": [
       "<Figure size 432x288 with 1 Axes>"
      ]
     },
     "metadata": {
      "needs_background": "light"
     },
     "output_type": "display_data"
    }
   ],
   "source": [
    "##plotting normalized histogram\n",
    "sns.distplot(norm_data_scaled, hist_kws=dict(edgecolor='black', linewidth=2))"
   ]
  },
  {
   "cell_type": "code",
   "execution_count": 26,
   "metadata": {},
   "outputs": [
    {
     "data": {
      "text/html": [
       "<div>\n",
       "<style scoped>\n",
       "    .dataframe tbody tr th:only-of-type {\n",
       "        vertical-align: middle;\n",
       "    }\n",
       "\n",
       "    .dataframe tbody tr th {\n",
       "        vertical-align: top;\n",
       "    }\n",
       "\n",
       "    .dataframe thead th {\n",
       "        text-align: right;\n",
       "    }\n",
       "</style>\n",
       "<table border=\"1\" class=\"dataframe\">\n",
       "  <thead>\n",
       "    <tr style=\"text-align: right;\">\n",
       "      <th></th>\n",
       "      <th>monthlyincome</th>\n",
       "    </tr>\n",
       "  </thead>\n",
       "  <tbody>\n",
       "    <tr>\n",
       "      <td>count</td>\n",
       "      <td>998.000000</td>\n",
       "    </tr>\n",
       "    <tr>\n",
       "      <td>mean</td>\n",
       "      <td>3264.379760</td>\n",
       "    </tr>\n",
       "    <tr>\n",
       "      <td>std</td>\n",
       "      <td>2873.280954</td>\n",
       "    </tr>\n",
       "    <tr>\n",
       "      <td>min</td>\n",
       "      <td>-630.000000</td>\n",
       "    </tr>\n",
       "    <tr>\n",
       "      <td>25%</td>\n",
       "      <td>1409.500000</td>\n",
       "    </tr>\n",
       "    <tr>\n",
       "      <td>50%</td>\n",
       "      <td>2386.000000</td>\n",
       "    </tr>\n",
       "    <tr>\n",
       "      <td>75%</td>\n",
       "      <td>4127.000000</td>\n",
       "    </tr>\n",
       "    <tr>\n",
       "      <td>max</td>\n",
       "      <td>18078.000000</td>\n",
       "    </tr>\n",
       "  </tbody>\n",
       "</table>\n",
       "</div>"
      ],
      "text/plain": [
       "       monthlyincome\n",
       "count     998.000000\n",
       "mean     3264.379760\n",
       "std      2873.280954\n",
       "min      -630.000000\n",
       "25%      1409.500000\n",
       "50%      2386.000000\n",
       "75%      4127.000000\n",
       "max     18078.000000"
      ]
     },
     "execution_count": 26,
     "metadata": {},
     "output_type": "execute_result"
    }
   ],
   "source": [
    "#3 statistics of \"monthly income\"\n",
    "\n",
    "x = pd.DataFrame(data, columns = ['monthlyincome'])\n",
    "x.describe()\n",
    "\n",
    "#Here we can see that we have a sample of 998 variables ranging from -630 to 18078 . Initially, there were 1000 variables but 2 rows were dropped earlier. \n",
    "#25th percentile has a value 1409,5 and 75th percentile equals 4127. The median (50th percentile) equals 2386.\n",
    "#The standard deviation is 2873.28,and the mean is 3264.38. That indicates that most of the income falls between the values of 391 and 6137. \n",
    "#The boxplot in the cell below also shows that we have a lot of outliers. \n",
    "#Overall, we have monthly income that ranges from very low (negative) values to very high values. \n",
    "#The fact that we have negative monthly income seems to be rather unusual. "
   ]
  },
  {
   "cell_type": "code",
   "execution_count": 27,
   "metadata": {},
   "outputs": [
    {
     "name": "stdout",
     "output_type": "stream",
     "text": [
      "[12277, 14709, 12325, 16251, 12316, 15056, 14567, 15663, 15295, 12321, 12502, 12160, 11911, 16077, 13374, 14900, 11985, 15296, 16538, 18078, 15877, 12905]\n"
     ]
    },
    {
     "data": {
      "image/png": "[encoded data removed]",
      "text/plain": [
       "<Figure size 432x288 with 1 Axes>"
      ]
     },
     "metadata": {
      "needs_background": "light"
     },
     "output_type": "display_data"
    }
   ],
   "source": [
    "#3 printing out the boxplot to check the outliers\n",
    "\n",
    "sns.boxplot(x=data['monthlyincome'])\n",
    "\n",
    "#printing out the outliers \n",
    "outliers=[]\n",
    "def detect_outlier(data_1):\n",
    "    \n",
    "    threshold=3\n",
    "    mean_1 = np.mean(data_1)\n",
    "    std_1 =np.std(data_1)\n",
    "    \n",
    "    \n",
    "    for y in data_1:\n",
    "        z_score= (y - mean_1)/std_1 \n",
    "        if np.abs(z_score) > threshold:\n",
    "            outliers.append(y)\n",
    "    return outliers\n",
    "\n",
    "outlier_datapoints = detect_outlier(data['monthlyincome'])\n",
    "print(outlier_datapoints)"
   ]
  },
  {
   "cell_type": "code",
   "execution_count": 28,
   "metadata": {},
   "outputs": [
    {
     "data": {
      "text/plain": [
       "<matplotlib.axes._subplots.AxesSubplot at 0x1e881f55748>"
      ]
     },
     "execution_count": 28,
     "metadata": {},
     "output_type": "execute_result"
    },
    {
     "data": {
      "image/png": "[encoded data removed]",
      "text/plain": [
       "<Figure size 432x288 with 1 Axes>"
      ]
     },
     "metadata": {
      "needs_background": "light"
     },
     "output_type": "display_data"
    }
   ],
   "source": [
    "#plotting monthly income distribution once again \n",
    "sns.distplot(pd.DataFrame(data, columns = ['monthlyincome']), hist_kws=dict(edgecolor='black', linewidth=2))\n"
   ]
  },
  {
   "cell_type": "code",
   "execution_count": null,
   "metadata": {},
   "outputs": [],
   "source": []
  },
  {
   "cell_type": "code",
   "execution_count": null,
   "metadata": {},
   "outputs": [],
   "source": []
  }
 ],
 "metadata": {
  "kernelspec": {
   "display_name": "Python 3",
   "language": "python",
   "name": "python3"
  },
  "language_info": {
   "codemirror_mode": {
    "name": "ipython",
    "version": 3
   },
   "file_extension": ".py",
   "mimetype": "text/x-python",
   "name": "python",
   "nbconvert_exporter": "python",
   "pygments_lexer": "ipython3",
   "version": "3.7.4"
  }
 },
 "nbformat": 4,
 "nbformat_minor": 2
}
